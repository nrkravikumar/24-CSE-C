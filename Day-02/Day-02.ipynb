{
 "cells": [
  {
   "cell_type": "markdown",
   "id": "4231eb01-ee89-4279-b36f-3663a0cda89f",
   "metadata": {},
   "source": [
    "# Python Basics:"
   ]
  },
  {
   "cell_type": "markdown",
   "id": "6126ba40-d829-49a9-a856-6857dd7922a9",
   "metadata": {},
   "source": [
    "## Variable:\n",
    "    - To store a value\n",
    "    - It changes a value\n",
    "    - It stores all data type values\n",
    "    Syntax:\n",
    "        variable_name = value"
   ]
  },
  {
   "cell_type": "markdown",
   "id": "7694cc9c-111a-4a99-8786-6cd9a9401498",
   "metadata": {},
   "source": [
    "## Variable Assignment Types:\n",
    "    - single variable = single value\n",
    "    - n number of varialbes = n number of values\n",
    "    - single variable = n number of values\n",
    "    - n number of variables = single value"
   ]
  },
  {
   "cell_type": "code",
   "execution_count": 1,
   "id": "e056a03b-7cb2-4d48-af86-328ed3cb72ef",
   "metadata": {},
   "outputs": [
    {
     "data": {
      "text/plain": [
       "25"
      ]
     },
     "execution_count": 1,
     "metadata": {},
     "output_type": "execute_result"
    }
   ],
   "source": [
    "a = 25\n",
    "a"
   ]
  },
  {
   "cell_type": "code",
   "execution_count": 2,
   "id": "191c64b5-f4c1-47e2-b5c1-39f6b5ec9b9b",
   "metadata": {},
   "outputs": [
    {
     "data": {
      "text/plain": [
       "45.25"
      ]
     },
     "execution_count": 2,
     "metadata": {},
     "output_type": "execute_result"
    }
   ],
   "source": [
    "b = 45.25\n",
    "b"
   ]
  },
  {
   "cell_type": "code",
   "execution_count": 3,
   "id": "867ba1ea-6122-4720-9a30-74e0b03587be",
   "metadata": {},
   "outputs": [
    {
     "data": {
      "text/plain": [
       "45.25"
      ]
     },
     "execution_count": 3,
     "metadata": {},
     "output_type": "execute_result"
    }
   ],
   "source": [
    "a\n",
    "b"
   ]
  },
  {
   "cell_type": "code",
   "execution_count": 4,
   "id": "0377a563-a947-4ac5-8f90-8a8e156e2b09",
   "metadata": {},
   "outputs": [
    {
     "data": {
      "text/plain": [
       "25"
      ]
     },
     "execution_count": 4,
     "metadata": {},
     "output_type": "execute_result"
    }
   ],
   "source": [
    "b\n",
    "a"
   ]
  },
  {
   "cell_type": "code",
   "execution_count": 5,
   "id": "d0f9c629-3115-4944-b73c-9d269611247d",
   "metadata": {},
   "outputs": [
    {
     "data": {
      "text/plain": [
       "(25, 45.25)"
      ]
     },
     "execution_count": 5,
     "metadata": {},
     "output_type": "execute_result"
    }
   ],
   "source": [
    "a,b"
   ]
  },
  {
   "cell_type": "markdown",
   "id": "c618ff9f-8217-4dac-a4c8-cd244b4823ca",
   "metadata": {},
   "source": [
    "## Data types:\n",
    "    - int => numeric\n",
    "    - float => numeric, decimal values\n",
    "    - complex => real and imaginary\n",
    "    - boolean => True or False\n",
    "    - none => None\n",
    "    - All Data Structures => [list,tuple,set,string and dictionary]"
   ]
  },
  {
   "cell_type": "code",
   "execution_count": 6,
   "id": "a6b21dbd-af8c-4d95-b484-6b78f1582358",
   "metadata": {},
   "outputs": [
    {
     "data": {
      "text/plain": [
       "(12, 45.021, 'Ramesh', True, (3+5j))"
      ]
     },
     "execution_count": 6,
     "metadata": {},
     "output_type": "execute_result"
    }
   ],
   "source": [
    "a = 12\n",
    "b = 45.021\n",
    "c = \"Ramesh\"\n",
    "d = True\n",
    "e = 3+5j\n",
    "a,b,c,d,e"
   ]
  },
  {
   "cell_type": "code",
   "execution_count": 7,
   "id": "0e012f10-4ccb-4295-a122-159f390af22f",
   "metadata": {},
   "outputs": [
    {
     "data": {
      "text/plain": [
       "(45, 23.021, 'Prasad', False, (6+5j))"
      ]
     },
     "execution_count": 7,
     "metadata": {},
     "output_type": "execute_result"
    }
   ],
   "source": [
    "a,b,c,d,e = 45,23.021,\"Prasad\",False,6+5j\n",
    "a,b,c,d,e"
   ]
  },
  {
   "cell_type": "code",
   "execution_count": 8,
   "id": "069e96a0-08d4-436c-a13d-2f2897584f85",
   "metadata": {},
   "outputs": [
    {
     "ename": "ValueError",
     "evalue": "too many values to unpack (expected 5)",
     "output_type": "error",
     "traceback": [
      "\u001b[1;31m---------------------------------------------------------------------------\u001b[0m",
      "\u001b[1;31mValueError\u001b[0m                                Traceback (most recent call last)",
      "Cell \u001b[1;32mIn[8], line 1\u001b[0m\n\u001b[1;32m----> 1\u001b[0m a,b,c,d,e \u001b[38;5;241m=\u001b[39m \u001b[38;5;241m45\u001b[39m,\u001b[38;5;241m23.021\u001b[39m,\u001b[38;5;124m\"\u001b[39m\u001b[38;5;124mPrasad\u001b[39m\u001b[38;5;124m\"\u001b[39m,\u001b[38;5;28;01mFalse\u001b[39;00m,\u001b[38;5;241m6\u001b[39m\u001b[38;5;241m+\u001b[39m\u001b[38;5;241m5\u001b[39mj,\u001b[38;5;28;01mNone\u001b[39;00m\n\u001b[0;32m      2\u001b[0m a,b,c,d,e\n",
      "\u001b[1;31mValueError\u001b[0m: too many values to unpack (expected 5)"
     ]
    }
   ],
   "source": [
    "a,b,c,d,e = 45,23.021,\"Prasad\",False,6+5j,None\n",
    "a,b,c,d,e"
   ]
  },
  {
   "cell_type": "code",
   "execution_count": 9,
   "id": "acbbac44-c1cd-47c0-ade2-6c84033fc0bb",
   "metadata": {},
   "outputs": [
    {
     "ename": "ValueError",
     "evalue": "not enough values to unpack (expected 6, got 5)",
     "output_type": "error",
     "traceback": [
      "\u001b[1;31m---------------------------------------------------------------------------\u001b[0m",
      "\u001b[1;31mValueError\u001b[0m                                Traceback (most recent call last)",
      "Cell \u001b[1;32mIn[9], line 1\u001b[0m\n\u001b[1;32m----> 1\u001b[0m a,b,c,d,e,f \u001b[38;5;241m=\u001b[39m \u001b[38;5;241m45\u001b[39m,\u001b[38;5;241m23.021\u001b[39m,\u001b[38;5;124m\"\u001b[39m\u001b[38;5;124mPrasad\u001b[39m\u001b[38;5;124m\"\u001b[39m,\u001b[38;5;28;01mFalse\u001b[39;00m,\u001b[38;5;241m6\u001b[39m\u001b[38;5;241m+\u001b[39m\u001b[38;5;241m5\u001b[39mj\n\u001b[0;32m      2\u001b[0m a,b,c,d,e,f\n",
      "\u001b[1;31mValueError\u001b[0m: not enough values to unpack (expected 6, got 5)"
     ]
    }
   ],
   "source": [
    "a,b,c,d,e,f = 45,23.021,\"Prasad\",False,6+5j\n",
    "a,b,c,d,e,f"
   ]
  },
  {
   "cell_type": "code",
   "execution_count": 11,
   "id": "f291d04c-6576-4426-baed-96d2e5504b31",
   "metadata": {},
   "outputs": [
    {
     "data": {
      "text/plain": [
       "(45, 23.021, 'Prasad', False, (6+5j))"
      ]
     },
     "execution_count": 11,
     "metadata": {},
     "output_type": "execute_result"
    }
   ],
   "source": [
    "a = 45,23.021,\"Prasad\",False,6+5j\n",
    "a"
   ]
  },
  {
   "cell_type": "code",
   "execution_count": 12,
   "id": "84a1a5e1-85de-41f5-9b48-1846cf9ed6f3",
   "metadata": {},
   "outputs": [
    {
     "data": {
      "text/plain": [
       "(120, 120, 120)"
      ]
     },
     "execution_count": 12,
     "metadata": {},
     "output_type": "execute_result"
    }
   ],
   "source": [
    "k = m = n = 120\n",
    "k,m,n"
   ]
  },
  {
   "cell_type": "markdown",
   "id": "e9071fd2-e84e-48e6-9905-e091b18158c4",
   "metadata": {},
   "source": [
    "## Input Formatting:\n",
    "    - It displays the info to a user\n",
    "    - It reads a value from a user\n",
    "    - By default it stores string data type value\n",
    "    Syntax:\n",
    "        variable_name = input(\"something info\")"
   ]
  },
  {
   "cell_type": "code",
   "execution_count": 5,
   "id": "2d521e25-1023-4eb8-a70e-81ba37939c60",
   "metadata": {},
   "outputs": [
    {
     "name": "stdin",
     "output_type": "stream",
     "text": [
      "Enter a value:  45.021\n"
     ]
    },
    {
     "data": {
      "text/plain": [
       "'45.021'"
      ]
     },
     "execution_count": 5,
     "metadata": {},
     "output_type": "execute_result"
    }
   ],
   "source": [
    "a = input(\"Enter a value: \")\n",
    "a"
   ]
  },
  {
   "cell_type": "code",
   "execution_count": 1,
   "id": "94864c5b-b457-4ecb-8e8e-9e4b4fb0bfac",
   "metadata": {},
   "outputs": [
    {
     "data": {
      "text/plain": [
       "78"
      ]
     },
     "execution_count": 1,
     "metadata": {},
     "output_type": "execute_result"
    }
   ],
   "source": [
    "b = 78\n",
    "b"
   ]
  },
  {
   "cell_type": "code",
   "execution_count": 2,
   "id": "ec3f570f-b519-4426-95c6-7dc700577d03",
   "metadata": {},
   "outputs": [
    {
     "ename": "NameError",
     "evalue": "name 'a' is not defined",
     "output_type": "error",
     "traceback": [
      "\u001b[1;31m---------------------------------------------------------------------------\u001b[0m",
      "\u001b[1;31mNameError\u001b[0m                                 Traceback (most recent call last)",
      "Cell \u001b[1;32mIn[2], line 1\u001b[0m\n\u001b[1;32m----> 1\u001b[0m \u001b[43ma\u001b[49m\n",
      "\u001b[1;31mNameError\u001b[0m: name 'a' is not defined"
     ]
    }
   ],
   "source": [
    "a"
   ]
  },
  {
   "cell_type": "code",
   "execution_count": 6,
   "id": "f85b620f-e81b-4717-9e3e-697fea51e661",
   "metadata": {},
   "outputs": [
    {
     "name": "stdin",
     "output_type": "stream",
     "text": [
      "Enter a value:  23\n"
     ]
    },
    {
     "name": "stdout",
     "output_type": "stream",
     "text": [
      "23\n"
     ]
    },
    {
     "data": {
      "text/plain": [
       "'23'"
      ]
     },
     "execution_count": 6,
     "metadata": {},
     "output_type": "execute_result"
    }
   ],
   "source": [
    "b = input(\"Enter a value: \")\n",
    "print(b)\n",
    "b"
   ]
  },
  {
   "cell_type": "markdown",
   "id": "1019d7e9-71e4-4d1b-90d2-64dc9407d7ec",
   "metadata": {},
   "source": [
    "## Type:\n",
    "    - To know the data type of a variable value\n",
    "    Syntax:\n",
    "        type(variablename)"
   ]
  },
  {
   "cell_type": "code",
   "execution_count": 7,
   "id": "ed1bbf8e-ec11-4fe2-888a-8d983ca8ca2a",
   "metadata": {},
   "outputs": [
    {
     "name": "stdout",
     "output_type": "stream",
     "text": [
      "45 <class 'int'>\n",
      "53.021 <class 'float'>\n",
      "Tilak <class 'str'>\n",
      "(4+5j) <class 'complex'>\n",
      "None <class 'NoneType'>\n",
      "False <class 'bool'>\n"
     ]
    }
   ],
   "source": [
    "a,b,c,d,e,f = 45,53.021,\"Tilak\",4+5j,None,False\n",
    "print(a,type(a))\n",
    "print(b,type(b))\n",
    "print(c,type(c))\n",
    "print(d,type(d))\n",
    "print(e,type(e))\n",
    "print(f,type(f))"
   ]
  },
  {
   "cell_type": "code",
   "execution_count": 8,
   "id": "31b9cb98-a244-4f24-8d8c-cc53d6be5e79",
   "metadata": {},
   "outputs": [
    {
     "name": "stdin",
     "output_type": "stream",
     "text": [
      "Enter a value:  5\n"
     ]
    },
    {
     "name": "stdout",
     "output_type": "stream",
     "text": [
      "5 <class 'str'>\n"
     ]
    },
    {
     "data": {
      "text/plain": [
       "('5', str)"
      ]
     },
     "execution_count": 8,
     "metadata": {},
     "output_type": "execute_result"
    }
   ],
   "source": [
    "n = input(\"Enter a value: \")\n",
    "print(n,type(n))\n",
    "n,type(n)"
   ]
  },
  {
   "cell_type": "markdown",
   "id": "27055488-d602-4d42-9977-fc443908aba4",
   "metadata": {},
   "source": [
    "## TypeCasting:\n",
    "    - To convert the data type of one format to another data type format\n",
    "    - int()\n",
    "    - float()\n",
    "    - complex()\n",
    "    - bool()\n",
    "    - All Data Structures[list(),tuple(),set(),str(),dict()]"
   ]
  },
  {
   "cell_type": "code",
   "execution_count": 9,
   "id": "42909985-60eb-4951-99aa-70b5a234b09b",
   "metadata": {},
   "outputs": [
    {
     "name": "stdout",
     "output_type": "stream",
     "text": [
      "45 <class 'int'>\n",
      "45.0 <class 'float'>\n"
     ]
    }
   ],
   "source": [
    "n = 45\n",
    "k = float(n)\n",
    "print(n,type(n))\n",
    "print(k,type(k))"
   ]
  },
  {
   "cell_type": "code",
   "execution_count": 11,
   "id": "bffec0f6-d15d-4778-b4ed-ad52b3a4cdce",
   "metadata": {},
   "outputs": [
    {
     "name": "stdin",
     "output_type": "stream",
     "text": [
      "Enter a vlaue:  12\n"
     ]
    },
    {
     "name": "stdout",
     "output_type": "stream",
     "text": [
      "12 <class 'str'>\n",
      "12 <class 'str'>\n",
      "12 <class 'int'>\n"
     ]
    }
   ],
   "source": [
    "m = input(\"Enter a vlaue: \")\n",
    "print(m,type(m))\n",
    "k = int(m)\n",
    "print(m,type(m))\n",
    "print(k,type(k))"
   ]
  },
  {
   "cell_type": "code",
   "execution_count": 12,
   "id": "c817eebe-1052-4cf2-be88-9f72300d4103",
   "metadata": {},
   "outputs": [
    {
     "name": "stdin",
     "output_type": "stream",
     "text": [
      "Enter a value:  45\n"
     ]
    },
    {
     "name": "stdout",
     "output_type": "stream",
     "text": [
      "45 <class 'int'>\n"
     ]
    }
   ],
   "source": [
    "p = int(input(\"Enter a value: \"))\n",
    "print(p,type(p))"
   ]
  },
  {
   "cell_type": "markdown",
   "id": "10adf60a-698b-4da6-9985-49f88983f8a7",
   "metadata": {},
   "source": [
    "```\n",
    "    Input:\n",
    "        Enter a value: 12\n",
    "        Enter b value: 1\n",
    "    Output:\n",
    "        Addition of 12 and 1 is: ?\n",
    "```"
   ]
  },
  {
   "cell_type": "markdown",
   "id": "5505334a-c3f4-490c-a41b-c235d4ef9e6b",
   "metadata": {},
   "source": [
    "## Output Formatting:\n",
    "    - +,\n",
    "    - %(format specifiers)\n",
    "    - .format\n",
    "    - f string"
   ]
  },
  {
   "cell_type": "code",
   "execution_count": 25,
   "id": "c1c4f2d3-99e7-446d-8500-6ecc87e5fc66",
   "metadata": {},
   "outputs": [
    {
     "name": "stdin",
     "output_type": "stream",
     "text": [
      "Enter a value:  4\n",
      "Enter b value:  5\n"
     ]
    },
    {
     "name": "stdout",
     "output_type": "stream",
     "text": [
      "Addition of 4 and 5 is: 9\n",
      "Addition of 4 and 5 is: 9\n",
      "Addition of 4 and 5 is: 9\n",
      "Addition of 4 and 5 is: 9\n",
      "Addition of 5 and 4 is: 9\n",
      "Addition of 4 and 5 is: 9\n"
     ]
    }
   ],
   "source": [
    "n = int(input(\"Enter a value: \"))\n",
    "m = int(input(\"Enter b value: \"))\n",
    "print(\"Addition of\",n,\"and\",m,\"is:\",n+m)\n",
    "print(\"Addition of \"+str(n)+\" and \"+str(m)+\" is: \"+str(n+m))\n",
    "print(\"Addition of %d and %d is: %d\"%(n,m,n+m))\n",
    "print(\"Addition of {} and {} is: {}\".format(n,m,n+m))\n",
    "print(\"Addition of {1} and {0} is: {2}\".format(n,m,n+m))\n",
    "print(f\"Addition of {n} and {m} is: {n+m}\")"
   ]
  },
  {
   "cell_type": "markdown",
   "id": "02082763-8804-4de3-9380-b6bba1104e73",
   "metadata": {},
   "source": [
    "```\n",
    "    Input:\n",
    "        Enter a value: 1\n",
    "        Enter b value: 2\n",
    "    Output:\n",
    "        Entered values are: 1,2\n",
    "        Entered values are: '1','2'\n",
    "        A value is: 1.0\n",
    "        B value is: '2.0'\n",
    "```"
   ]
  },
  {
   "cell_type": "code",
   "execution_count": 29,
   "id": "8e210f6f-c9a9-4a61-b5ac-23a704872766",
   "metadata": {},
   "outputs": [
    {
     "name": "stdin",
     "output_type": "stream",
     "text": [
      "Enter a value: 12\n",
      "Enter b value: 34\n"
     ]
    },
    {
     "name": "stdout",
     "output_type": "stream",
     "text": [
      "Entered values are: 12,34\n",
      "Entered values are: '12','34'\n",
      "A value is: 12.0\n",
      "B value is: '34.0'\n"
     ]
    }
   ],
   "source": [
    "a,b = int(input(\"Enter a value:\")),int(input(\"Enter b value:\"))\n",
    "print(f\"Entered values are: {a},{b}\")\n",
    "print(f\"Entered values are: '{a}','{b}'\")\n",
    "print(f\"A value is: {float(a)}\")\n",
    "print(f\"B value is: '{float(b)}'\")"
   ]
  },
  {
   "cell_type": "markdown",
   "id": "cc8a80c8-879d-46a4-95e1-57a166cd82ba",
   "metadata": {},
   "source": [
    "## Keywords or Reserved Words:"
   ]
  },
  {
   "cell_type": "code",
   "execution_count": 30,
   "id": "04ace922-46e8-46bc-8211-5066c1939d46",
   "metadata": {},
   "outputs": [],
   "source": [
    "import keyword"
   ]
  },
  {
   "cell_type": "code",
   "execution_count": 31,
   "id": "d835c530-5a7f-4129-b888-7760eec8fa28",
   "metadata": {},
   "outputs": [
    {
     "name": "stdout",
     "output_type": "stream",
     "text": [
      "['__all__', '__builtins__', '__cached__', '__doc__', '__file__', '__loader__', '__name__', '__package__', '__spec__', 'iskeyword', 'issoftkeyword', 'kwlist', 'softkwlist']\n"
     ]
    }
   ],
   "source": [
    "print(dir(keyword))"
   ]
  },
  {
   "cell_type": "code",
   "execution_count": 32,
   "id": "db7ea703-799b-413f-bd2c-22b19756b85b",
   "metadata": {},
   "outputs": [
    {
     "name": "stdout",
     "output_type": "stream",
     "text": [
      "['False', 'None', 'True', '__peg_parser__', 'and', 'as', 'assert', 'async', 'await', 'break', 'class', 'continue', 'def', 'del', 'elif', 'else', 'except', 'finally', 'for', 'from', 'global', 'if', 'import', 'in', 'is', 'lambda', 'nonlocal', 'not', 'or', 'pass', 'raise', 'return', 'try', 'while', 'with', 'yield']\n"
     ]
    }
   ],
   "source": [
    "print(keyword.kwlist)"
   ]
  },
  {
   "cell_type": "code",
   "execution_count": 33,
   "id": "41b54c3d-7969-4ed3-b9f3-ec2d62fec2a5",
   "metadata": {},
   "outputs": [
    {
     "name": "stdout",
     "output_type": "stream",
     "text": [
      "36\n"
     ]
    }
   ],
   "source": [
    "print(len(keyword.kwlist))"
   ]
  },
  {
   "cell_type": "markdown",
   "id": "680c8f63-9979-407e-bd57-59bbd6ef66b1",
   "metadata": {},
   "source": [
    "## Operators:\n",
    "    - Arithmetic => +,-,*,/,%,//,**\n",
    "    - Logical => AND,OR,XOR,NOT\n",
    "    - Bitwise => &,|,!,>>,<<\n",
    "    - Relational => !=,==,>=,<=,<,>\n",
    "    - Assignment => +=,-=,*=,/=,%=,//=,**=\n",
    "    - Membership => in,not in\n",
    "    - Identity => is, is not"
   ]
  },
  {
   "cell_type": "code",
   "execution_count": 35,
   "id": "86de0ec3-c29d-401d-818d-35c45f00d039",
   "metadata": {},
   "outputs": [
    {
     "name": "stdout",
     "output_type": "stream",
     "text": [
      "25\n",
      "1\n",
      "35\n",
      "1\n"
     ]
    }
   ],
   "source": [
    "a,b = 35,25\n",
    "print(a and b)\n",
    "print(a & b)\n",
    "print(b and a)\n",
    "print(b & a)"
   ]
  },
  {
   "cell_type": "code",
   "execution_count": 36,
   "id": "df3ee26b-f3dc-45bc-aafe-0e73ed32b9be",
   "metadata": {},
   "outputs": [
    {
     "name": "stdout",
     "output_type": "stream",
     "text": [
      "35\n",
      "59\n",
      "25\n",
      "59\n"
     ]
    }
   ],
   "source": [
    "a,b = 35,25\n",
    "print(a or b)\n",
    "print(a | b)\n",
    "print(b or a)\n",
    "print(b | a)"
   ]
  },
  {
   "cell_type": "markdown",
   "id": "5b91dd5b-8e6f-4dca-bb15-c49260223123",
   "metadata": {},
   "source": [
    "## Conditional Statements:\n",
    "    - To check whether the given condition is either True or False\n",
    "    - if => single condition\n",
    "    - if-else => two cases\n",
    "    - elif => n number of cases and based on preference\n",
    "    - nested if => n number of cases"
   ]
  },
  {
   "cell_type": "markdown",
   "id": "0d2641ec-523b-46c3-a2c9-1a80a0aed874",
   "metadata": {},
   "source": [
    "## if\n",
    "    Syntax:\n",
    "        if condition:\n",
    "            //statement\n",
    "        () => optional"
   ]
  },
  {
   "cell_type": "markdown",
   "id": "c29ee50d-cea5-4189-b028-6260a0e5dafc",
   "metadata": {},
   "source": [
    "```\n",
    "Expression: 3x*2\n",
    "\n",
    "Input-1:\n",
    "    6\n",
    "    2\n",
    "Output-1:\n",
    "    Entered value is: 6\n",
    "    Entered expression value is: 2\n",
    "    Given expression is: 3x*2 and value is: 12\n",
    "Input-2:\n",
    "    5\n",
    "```\n"
   ]
  },
  {
   "cell_type": "code",
   "execution_count": 38,
   "id": "051d6620-35a2-4c1c-a8fe-ab3525816bc9",
   "metadata": {},
   "outputs": [
    {
     "name": "stdin",
     "output_type": "stream",
     "text": [
      " 5\n"
     ]
    }
   ],
   "source": [
    "k = int(input())\n",
    "if k%3==0:\n",
    "    m = int(input())\n",
    "    print(f\"Entered value is: {k}\")\n",
    "    print(f\"Entered expression value is: {m}\")\n",
    "    print(f\"Given expression is: 3x*2 and value is: {3*m**2}\")"
   ]
  },
  {
   "cell_type": "markdown",
   "id": "61b3c77c-d786-4764-9f60-7778b3f01a9a",
   "metadata": {},
   "source": [
    "### if-else:\n",
    "    Syntax:\n",
    "        if condition:\n",
    "            //statement-1\n",
    "        else:\n",
    "            //statement-2"
   ]
  },
  {
   "cell_type": "markdown",
   "id": "facb97a6-da29-448a-ac65-907900f59425",
   "metadata": {},
   "source": [
    "```\n",
    "Even: 45x*3\n",
    "Odd: 24x*2+43y\n",
    "Input-1:\n",
    "    20\n",
    "    1\n",
    "Output-1:\n",
    "    Entered number 20 is Even\n",
    "    Given expression is 45x*3 value is: ?\n",
    "Input-2:\n",
    "    11\n",
    "    4\n",
    "    5\n",
    "Output-2:\n",
    "    Entered number 11 is Odd\n",
    "    Given expression is 24x*2+43y value is: ?\n",
    "```"
   ]
  },
  {
   "cell_type": "code",
   "execution_count": null,
   "id": "ee3ec67a-0fa1-4db5-a6c2-e7dc6f8b00b8",
   "metadata": {},
   "outputs": [],
   "source": []
  }
 ],
 "metadata": {
  "kernelspec": {
   "display_name": "Python 3 (ipykernel)",
   "language": "python",
   "name": "python3"
  },
  "language_info": {
   "codemirror_mode": {
    "name": "ipython",
    "version": 3
   },
   "file_extension": ".py",
   "mimetype": "text/x-python",
   "name": "python",
   "nbconvert_exporter": "python",
   "pygments_lexer": "ipython3",
   "version": "3.9.6"
  }
 },
 "nbformat": 4,
 "nbformat_minor": 5
}
