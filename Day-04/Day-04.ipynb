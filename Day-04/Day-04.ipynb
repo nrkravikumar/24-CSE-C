{
 "cells": [
  {
   "cell_type": "code",
   "execution_count": 2,
   "id": "0af9a154-193f-44af-a3a3-6b693b3cfb14",
   "metadata": {},
   "outputs": [
    {
     "name": "stdin",
     "output_type": "stream",
     "text": [
      " 100\n",
      " 105\n"
     ]
    },
    {
     "name": "stdout",
     "output_type": "stream",
     "text": [
      "100 101 102 103 104 "
     ]
    }
   ],
   "source": [
    "n,m = int(input()),int(input())\n",
    "for i in range(n,m):\n",
    "    print(i,end=\" \")"
   ]
  },
  {
   "cell_type": "code",
   "execution_count": 5,
   "id": "9bf8ee2d-0b64-4bee-86d6-32ff14b507c6",
   "metadata": {},
   "outputs": [
    {
     "name": "stdin",
     "output_type": "stream",
     "text": [
      " 10\n",
      " 20\n"
     ]
    },
    {
     "name": "stdout",
     "output_type": "stream",
     "text": [
      "19 18 17 16 15 14 13 12 11 10 "
     ]
    }
   ],
   "source": [
    "n,m = int(input()),int(input())\n",
    "for i in range(n,m):\n",
    "    print(m+n-i-1,end=\" \")"
   ]
  },
  {
   "cell_type": "code",
   "execution_count": 6,
   "id": "f074b376-8f03-4cc1-9d86-8a3482516921",
   "metadata": {},
   "outputs": [
    {
     "name": "stdin",
     "output_type": "stream",
     "text": [
      " 2\n",
      " 10\n"
     ]
    },
    {
     "name": "stdout",
     "output_type": "stream",
     "text": [
      "Even -1 Even Odd Even Odd Even -1 "
     ]
    }
   ],
   "source": [
    "n,m = int(input()),int(input())\n",
    "for i in range(n,m):\n",
    "    if i%2==0:\n",
    "        print(\"Even\",end=\" \")\n",
    "    elif i%3==0:\n",
    "        print(\"-1\",end=\" \")\n",
    "    else:\n",
    "        print(\"Odd\",end=\" \")"
   ]
  },
  {
   "cell_type": "code",
   "execution_count": 7,
   "id": "f04a7a6a-c5f6-454d-b647-b3a06e03723c",
   "metadata": {},
   "outputs": [
    {
     "name": "stdin",
     "output_type": "stream",
     "text": [
      " 1\n",
      " 20\n",
      " 5\n"
     ]
    },
    {
     "name": "stdout",
     "output_type": "stream",
     "text": [
      "1 6 11 16 "
     ]
    }
   ],
   "source": [
    "n,m,k = int(input()),int(input()),int(input())\n",
    "for i in range(n,m,k):\n",
    "    print(i,end=\" \")"
   ]
  },
  {
   "cell_type": "markdown",
   "id": "c6173757-5b09-4144-9087-ae2debb4f597",
   "metadata": {},
   "source": [
    "## While:\n",
    "    Syntax:\n",
    "    Variable_initialization\n",
    "    while condition:\n",
    "        //stmnts\n",
    "        incr/decr"
   ]
  },
  {
   "cell_type": "code",
   "execution_count": 8,
   "id": "cf1681a8-5d24-467a-a1bf-23320ee73e78",
   "metadata": {},
   "outputs": [
    {
     "name": "stdin",
     "output_type": "stream",
     "text": [
      " 10\n"
     ]
    },
    {
     "name": "stdout",
     "output_type": "stream",
     "text": [
      "0 1 2 3 4 5 6 7 8 9 "
     ]
    }
   ],
   "source": [
    "t = 0\n",
    "n = int(input())\n",
    "while t!=n:\n",
    "    print(t,end=\" \")\n",
    "    t += 1"
   ]
  },
  {
   "cell_type": "code",
   "execution_count": null,
   "id": "a40316e3-e6e7-422a-90a9-7188ee8341f6",
   "metadata": {},
   "outputs": [],
   "source": [
    "k = 1234\n",
    "h = k%10 = 4\n",
    "r = 0 * 10 + h = 4 \n",
    "k = k//10 = 123\n",
    "h = k%10 = 3\n",
    "r = 4 * 10 + 3 = 43\n",
    "k = k//10 = 12\n",
    "r = r*10+k%10\n",
    "k = k//10"
   ]
  },
  {
   "cell_type": "code",
   "execution_count": 14,
   "id": "da923f70-27c4-4a77-8446-da1cc58502b0",
   "metadata": {},
   "outputs": [
    {
     "name": "stdin",
     "output_type": "stream",
     "text": [
      " 45654\n"
     ]
    },
    {
     "name": "stdout",
     "output_type": "stream",
     "text": [
      "Entered number is: 45654\n",
      "Reverse of 45654 is: 45654\n"
     ]
    }
   ],
   "source": [
    "n = k = int(input())\n",
    "r = 0\n",
    "while n!=0:\n",
    "    r = r*10+n%10\n",
    "    n//=10\n",
    "print(f\"Entered number is: {k}\")\n",
    "print(f\"Reverse of {k} is: {r}\")"
   ]
  },
  {
   "cell_type": "markdown",
   "id": "c9c8248e-f073-4fa6-9e42-c359d55f80f0",
   "metadata": {},
   "source": [
    "## Jumping Statements:\n",
    "    - break => It terminates from the loop when the condition is true\n",
    "    - continue => It skips the value and executes untill the condition is false\n",
    "    - pass => It is similar to continue but for future enhancements we can implement this statement\n",
    "    - return => It returns a single or n number of values but it can be used only in the functions concepts"
   ]
  },
  {
   "cell_type": "code",
   "execution_count": 15,
   "id": "7e9149c1-13b1-4c5e-8eac-9caf082722e9",
   "metadata": {},
   "outputs": [
    {
     "name": "stdin",
     "output_type": "stream",
     "text": [
      " 100\n"
     ]
    },
    {
     "name": "stdout",
     "output_type": "stream",
     "text": [
      "0 1 2 3 4 5 6 7 8 9 10 11 12 13 14 15 16 17 18 19 "
     ]
    }
   ],
   "source": [
    "k = int(input())\n",
    "for i in range(k):\n",
    "    if i == 20:\n",
    "        break\n",
    "    else:\n",
    "        print(i,end=\" \")"
   ]
  },
  {
   "cell_type": "code",
   "execution_count": 16,
   "id": "7375cc13-2486-44b4-9b12-d6d35972ff88",
   "metadata": {},
   "outputs": [
    {
     "name": "stdin",
     "output_type": "stream",
     "text": [
      " 25\n"
     ]
    },
    {
     "name": "stdout",
     "output_type": "stream",
     "text": [
      "0 1 2 3 4 5 6 7 8 9 10 11 12 13 14 15 16 17 18 19 21 22 23 24 "
     ]
    }
   ],
   "source": [
    "k = int(input())\n",
    "for i in range(k):\n",
    "    if i == 20:\n",
    "        continue\n",
    "    else:\n",
    "        print(i,end=\" \")"
   ]
  },
  {
   "cell_type": "code",
   "execution_count": 18,
   "id": "c66635df-b987-4338-902b-b1d5052c9801",
   "metadata": {},
   "outputs": [
    {
     "name": "stdin",
     "output_type": "stream",
     "text": [
      " 25\n"
     ]
    },
    {
     "name": "stdout",
     "output_type": "stream",
     "text": [
      "0 1 2 3 4 5 6 7 8 9 10 11 12 13 14 15 16 17 18 19 21 22 23 24 "
     ]
    }
   ],
   "source": [
    "k = int(input())\n",
    "for i in range(k):\n",
    "    if i == 20:\n",
    "        pass\n",
    "    else:\n",
    "        print(i,end=\" \")"
   ]
  },
  {
   "cell_type": "code",
   "execution_count": 19,
   "id": "2351d6d8-34d2-4790-b536-e5b18cb64a7e",
   "metadata": {},
   "outputs": [
    {
     "name": "stdout",
     "output_type": "stream",
     "text": [
      "1.Add\n",
      "2.Square\n",
      "3.Even or not?\n",
      "4.Exit\n"
     ]
    },
    {
     "name": "stdin",
     "output_type": "stream",
     "text": [
      "Enter your choice:  5\n"
     ]
    },
    {
     "name": "stdout",
     "output_type": "stream",
     "text": [
      "1.Add\n",
      "2.Square\n",
      "3.Even or not?\n",
      "4.Exit\n"
     ]
    },
    {
     "name": "stdin",
     "output_type": "stream",
     "text": [
      "Enter your choice:  3\n"
     ]
    },
    {
     "name": "stdout",
     "output_type": "stream",
     "text": [
      "1.Add\n",
      "2.Square\n",
      "3.Even or not?\n",
      "4.Exit\n"
     ]
    },
    {
     "name": "stdin",
     "output_type": "stream",
     "text": [
      "Enter your choice:  4\n"
     ]
    },
    {
     "name": "stdout",
     "output_type": "stream",
     "text": [
      "Thankyou Visit Again..\n"
     ]
    }
   ],
   "source": [
    "while True:\n",
    "    print(\"1.Add\\n2.Square\\n3.Even or not?\\n4.Exit\")\n",
    "    d = int(input(\"Enter your choice: \"))\n",
    "    if (d==2):\n",
    "        n = int(input(\"Enter a number: \"))\n",
    "        print(f\"Entered number is: {n} and its square is: {n**2}\")\n",
    "    elif (d==4):\n",
    "        print(\"Thankyou Visit Again..\")\n",
    "        break\n",
    "    elif (d==1):\n",
    "        p = int(input(\"Enter a value: \"))\n",
    "        q = int(input(\"Enter b value: \"))\n",
    "        print(f\"Addition of {p} and {q} is: {p+q}\")\n",
    "    elif (d==3):\n",
    "        k = int(input(\"Enter a number: \"))\n",
    "        if k%2==0:\n",
    "            print(f\"Entered number {k} is Even\")\n",
    "    else:\n",
    "        print(\"Invalid Choice try again\")"
   ]
  },
  {
   "cell_type": "markdown",
   "id": "7f93f7a2-683c-4ba1-8409-8c0817c12e3e",
   "metadata": {},
   "source": [
    "## Inner Loops:\n",
    "    - Loop within a loop"
   ]
  },
  {
   "cell_type": "code",
   "execution_count": 21,
   "id": "50d0a4a4-c2e2-4fed-a3b8-485242860e88",
   "metadata": {},
   "outputs": [
    {
     "name": "stdin",
     "output_type": "stream",
     "text": [
      "Enter a range:  4\n"
     ]
    },
    {
     "name": "stdout",
     "output_type": "stream",
     "text": [
      "* * * * \n",
      "* * * * \n",
      "* * * * \n",
      "* * * * \n"
     ]
    }
   ],
   "source": [
    "n = int(input(\"Enter a range: \"))\n",
    "for i in range(n):\n",
    "    for j in range(n):\n",
    "        print(\"*\",end=\" \")\n",
    "    print()"
   ]
  },
  {
   "cell_type": "code",
   "execution_count": 23,
   "id": "eec8c8be-66b2-47ac-b421-38375da25d27",
   "metadata": {},
   "outputs": [
    {
     "name": "stdin",
     "output_type": "stream",
     "text": [
      "Enter a range:  5\n"
     ]
    },
    {
     "name": "stdout",
     "output_type": "stream",
     "text": [
      "* \n",
      "* * \n",
      "* * * \n",
      "* * * * \n",
      "* * * * * \n"
     ]
    }
   ],
   "source": [
    "n = int(input(\"Enter a range: \"))\n",
    "for i in range(n):\n",
    "    for j in range(i+1):\n",
    "        print(\"*\",end=\" \")\n",
    "    print()"
   ]
  },
  {
   "cell_type": "code",
   "execution_count": 25,
   "id": "848b1dc6-4a44-4bed-8774-665835a44389",
   "metadata": {},
   "outputs": [
    {
     "name": "stdin",
     "output_type": "stream",
     "text": [
      "Enter a range:  5\n"
     ]
    },
    {
     "name": "stdout",
     "output_type": "stream",
     "text": [
      "1 \n",
      "1 2 \n",
      "1 2 3 \n",
      "1 2 3 4 \n",
      "1 2 3 4 5 \n"
     ]
    }
   ],
   "source": [
    "n = int(input(\"Enter a range: \"))\n",
    "for i in range(n):\n",
    "    for j in range(i+1):\n",
    "        print(j+1,end=\" \")\n",
    "    print()"
   ]
  },
  {
   "cell_type": "code",
   "execution_count": 28,
   "id": "50cea952-84d2-4de2-bc73-7e96f49b02a7",
   "metadata": {},
   "outputs": [
    {
     "name": "stdin",
     "output_type": "stream",
     "text": [
      "Enter a range:  5\n"
     ]
    },
    {
     "name": "stdout",
     "output_type": "stream",
     "text": [
      "* * * * * \n",
      "*       * \n",
      "*       * \n",
      "*       * \n",
      "* * * * * \n"
     ]
    }
   ],
   "source": [
    "n = int(input(\"Enter a range: \"))\n",
    "for i in range(n):\n",
    "    for j in range(n):\n",
    "        if i==0 or j==0 or i==n-1 or j==n-1:\n",
    "            print(\"*\",end=\" \")\n",
    "        else:\n",
    "            print(\" \",end=\" \")\n",
    "    print()"
   ]
  },
  {
   "cell_type": "markdown",
   "id": "9c763ad8-e7a3-4f48-8c4e-85e31f0562a9",
   "metadata": {},
   "source": [
    "```\n",
    "Input:\n",
    "    5\n",
    "    4\n",
    "    3\n",
    "    6\n",
    "    2\n",
    "    7\n",
    "Output:\n",
    "    1 2 3 4\n",
    "    1 2 3\n",
    "    1 2 3 4 5 6\n",
    "    1 2\n",
    "    1 2 3 4 5 6 7\n",
    "```"
   ]
  },
  {
   "cell_type": "code",
   "execution_count": 29,
   "id": "e2859933-7624-41b1-9eaf-fd131a40def9",
   "metadata": {},
   "outputs": [
    {
     "name": "stdin",
     "output_type": "stream",
     "text": [
      " 3\n",
      " 6\n"
     ]
    },
    {
     "name": "stdout",
     "output_type": "stream",
     "text": [
      "0 1 2 3 4 5 \n"
     ]
    },
    {
     "name": "stdin",
     "output_type": "stream",
     "text": [
      " 2\n"
     ]
    },
    {
     "name": "stdout",
     "output_type": "stream",
     "text": [
      "0 1 \n"
     ]
    },
    {
     "name": "stdin",
     "output_type": "stream",
     "text": [
      " 3\n"
     ]
    },
    {
     "name": "stdout",
     "output_type": "stream",
     "text": [
      "0 1 2 \n"
     ]
    }
   ],
   "source": [
    "k = int(input())\n",
    "for i in range(k):\n",
    "    m = int(input())\n",
    "    for j in range(m):\n",
    "        print(j+1,end=\" \")\n",
    "    print()"
   ]
  },
  {
   "cell_type": "markdown",
   "id": "1957e744-4ab8-42bb-9107-decdac11b690",
   "metadata": {},
   "source": [
    "## Functions:\n",
    "    - To perform a specific task\n",
    "    Syntax:\n",
    "        def function_name(arguments):\n",
    "            //statements\n",
    "            return return_value\n",
    "            \n",
    "    - Predefined functions => print,input,range etc.,\n",
    "    - User Defined functions\n",
    "        = with returntype and with arguments\n",
    "        = with returntype and without arguments\n",
    "        = without returntype and with arguments\n",
    "        = without returntype and without arguments"
   ]
  },
  {
   "cell_type": "markdown",
   "id": "9a193df6-233a-40c9-96ce-fe30d14ae52d",
   "metadata": {},
   "source": [
    "## with returntype and with arguments:"
   ]
  },
  {
   "cell_type": "code",
   "execution_count": 32,
   "id": "7e4d2b8c-bd6d-4262-ad55-1a1df1ff602f",
   "metadata": {},
   "outputs": [
    {
     "name": "stdin",
     "output_type": "stream",
     "text": [
      "Enter a number:  45135\n"
     ]
    },
    {
     "name": "stdout",
     "output_type": "stream",
     "text": [
      "Entered number is: 45135 and its reverse is: 53154\n"
     ]
    }
   ],
   "source": [
    "# function\n",
    "def revofnum(k):\n",
    "    ''' Reverse of a number defined by user''' # description\n",
    "    r = 0\n",
    "    while k!=0:\n",
    "        r = r*10+k%10\n",
    "        k//=10\n",
    "    return r\n",
    "\n",
    "# Main\n",
    "n = int(input(\"Enter a number: \"))\n",
    "print(f\"Entered number is: {n} and its reverse is: {revofnum(n)}\")"
   ]
  },
  {
   "cell_type": "code",
   "execution_count": 33,
   "id": "b170bfdb-88a2-4441-8c22-6b5b0dce7b71",
   "metadata": {},
   "outputs": [
    {
     "name": "stdout",
     "output_type": "stream",
     "text": [
      " Reverse of a number defined by user\n"
     ]
    }
   ],
   "source": [
    "print(revofnum.__doc__)"
   ]
  },
  {
   "cell_type": "code",
   "execution_count": 34,
   "id": "fb25d6e2-eff2-42ae-899a-da4c754fc8cf",
   "metadata": {},
   "outputs": [
    {
     "name": "stdout",
     "output_type": "stream",
     "text": [
      "Forward raw_input to frontends\n",
      "\n",
      "        Raises\n",
      "        ------\n",
      "        StdinNotImplementedError if active frontend doesn't support stdin.\n",
      "        \n"
     ]
    }
   ],
   "source": [
    "print(input.__doc__)"
   ]
  },
  {
   "cell_type": "code",
   "execution_count": 35,
   "id": "1cf08579-f2b4-45ae-a1ee-f66daf4a31cc",
   "metadata": {},
   "outputs": [
    {
     "name": "stdout",
     "output_type": "stream",
     "text": [
      "range(stop) -> range object\n",
      "range(start, stop[, step]) -> range object\n",
      "\n",
      "Return an object that produces a sequence of integers from start (inclusive)\n",
      "to stop (exclusive) by step.  range(i, j) produces i, i+1, i+2, ..., j-1.\n",
      "start defaults to 0, and stop is omitted!  range(4) produces 0, 1, 2, 3.\n",
      "These are exactly the valid indices for a list of 4 elements.\n",
      "When step is given, it specifies the increment (or decrement).\n"
     ]
    }
   ],
   "source": [
    "print(range.__doc__)"
   ]
  },
  {
   "cell_type": "code",
   "execution_count": 36,
   "id": "c92ff26c-0fa9-404b-9554-269828786e61",
   "metadata": {},
   "outputs": [
    {
     "name": "stdout",
     "output_type": "stream",
     "text": [
      "print(value, ..., sep=' ', end='\\n', file=sys.stdout, flush=False)\n",
      "\n",
      "Prints the values to a stream, or to sys.stdout by default.\n",
      "Optional keyword arguments:\n",
      "file:  a file-like object (stream); defaults to the current sys.stdout.\n",
      "sep:   string inserted between values, default a space.\n",
      "end:   string appended after the last value, default a newline.\n",
      "flush: whether to forcibly flush the stream.\n"
     ]
    }
   ],
   "source": [
    "print(print.__doc__)"
   ]
  },
  {
   "cell_type": "markdown",
   "id": "db9f9f51-afa0-4eac-ac50-f1bf95d6f82c",
   "metadata": {},
   "source": [
    "## With returntype and without arguments"
   ]
  },
  {
   "cell_type": "code",
   "execution_count": 38,
   "id": "63217d35-7d36-45df-af9a-3454433639ad",
   "metadata": {},
   "outputs": [
    {
     "name": "stdin",
     "output_type": "stream",
     "text": [
      "Enter a number:  543\n"
     ]
    },
    {
     "name": "stdout",
     "output_type": "stream",
     "text": [
      "Entered number is: 543 and its reverse is: 345\n"
     ]
    }
   ],
   "source": [
    "def revofnum():\n",
    "    ''' Reverse of a number defined by user''' # description\n",
    "    k = int(input(\"Enter a number: \"))\n",
    "    r = 0\n",
    "    print(f\"Entered number is: {k}\",end=\"\")\n",
    "    while k!=0:\n",
    "        r = r*10+k%10\n",
    "        k//=10\n",
    "    return r\n",
    "\n",
    "print(f\" and its reverse is: {revofnum()}\")"
   ]
  },
  {
   "cell_type": "markdown",
   "id": "bb0adf2b-65af-45bc-9a5e-5197fff2e5ac",
   "metadata": {},
   "source": [
    "## Without returntype and with arguments"
   ]
  },
  {
   "cell_type": "code",
   "execution_count": 40,
   "id": "22c0e212-cd41-41fe-8bdd-09678a6cd84b",
   "metadata": {},
   "outputs": [
    {
     "name": "stdin",
     "output_type": "stream",
     "text": [
      "Enter a number:  451\n"
     ]
    },
    {
     "name": "stdout",
     "output_type": "stream",
     "text": [
      "Entered number is: 451 and its reverse is: 154\n"
     ]
    }
   ],
   "source": [
    "def revofnum(k):\n",
    "    ''' Reverse of a number defined by user''' # description\n",
    "    r = 0\n",
    "    print(f\"Entered number is: {k}\",end=\"\")\n",
    "    while k!=0:\n",
    "        r = r*10+k%10\n",
    "        k//=10\n",
    "    print(f\" and its reverse is: {r}\")\n",
    "    return \n",
    "\n",
    "n = int(input(\"Enter a number: \"))\n",
    "revofnum(n)"
   ]
  },
  {
   "cell_type": "markdown",
   "id": "0651a7ec-662d-4260-9494-0f4333f1cafd",
   "metadata": {},
   "source": [
    "## Without returntype and without arguments"
   ]
  },
  {
   "cell_type": "code",
   "execution_count": null,
   "id": "1b22a719-4832-4604-9f1d-caf4d724be36",
   "metadata": {},
   "outputs": [],
   "source": [
    "def revofnum():\n",
    "    ''' Reverse of a number defined by user''' # description\n",
    "    k = int(input(\"Enter a number: \"))\n",
    "    r = 0\n",
    "    print(f\"Entered number is: {k}\",end=\"\")\n",
    "    while k!=0:\n",
    "        r = r*10+k%10\n",
    "        k//=10\n",
    "    print(f\" and its reverse is: {r}\")\n",
    "    return \n",
    "\n",
    "revofnum()"
   ]
  }
 ],
 "metadata": {
  "kernelspec": {
   "display_name": "Python 3 (ipykernel)",
   "language": "python",
   "name": "python3"
  },
  "language_info": {
   "codemirror_mode": {
    "name": "ipython",
    "version": 3
   },
   "file_extension": ".py",
   "mimetype": "text/x-python",
   "name": "python",
   "nbconvert_exporter": "python",
   "pygments_lexer": "ipython3",
   "version": "3.9.6"
  }
 },
 "nbformat": 4,
 "nbformat_minor": 5
}
