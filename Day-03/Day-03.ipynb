{
 "cells": [
  {
   "cell_type": "markdown",
   "id": "ca6707f9-c871-4edd-a81a-fa3b4612dcae",
   "metadata": {},
   "source": [
    "```\n",
    "Even: 45x*3\n",
    "Odd: 24x*2+43y\n",
    "Input-1:\n",
    "    20\n",
    "    1\n",
    "Output-1:\n",
    "    Entered number 20 is Even\n",
    "    Given expression is 45x*3 value is: ?\n",
    "Input-2:\n",
    "    11\n",
    "    4\n",
    "    5\n",
    "Output-2:\n",
    "    Entered number 11 is Odd\n",
    "    Given expression is 24x*2+43y value is: ?\n",
    "```"
   ]
  },
  {
   "cell_type": "code",
   "execution_count": 2,
   "id": "5ecda801-f1c7-4c68-bbfc-1592fc7809ed",
   "metadata": {},
   "outputs": [
    {
     "name": "stdin",
     "output_type": "stream",
     "text": [
      " 6\n",
      " 9\n"
     ]
    },
    {
     "name": "stdout",
     "output_type": "stream",
     "text": [
      "Entered number 6 is Even\n",
      "Given expression is 45x*3 value is:32805\n"
     ]
    }
   ],
   "source": [
    "a=int(input())\n",
    "if a%2==0:\n",
    "    b=int(input())\n",
    "    print(f\"Entered number {a} is Even\")\n",
    "    print(f\"Given expression is 45x*3 value is:{45*b**3}\")\n",
    "else:\n",
    "    c,d=int(input()),int(input())\n",
    "    print(f\"Entered number {a} is Odd\")\n",
    "    print(f\"Given expression is 24x*2+43y value is:{24*c**2+43*d}\")"
   ]
  },
  {
   "cell_type": "markdown",
   "id": "56d225f3-8f4f-4c2a-bd42-785b3b04bf57",
   "metadata": {},
   "source": [
    "## Nested if:\n",
    "    Syntax:\n",
    "        if condition-1:\n",
    "            if condition-2:\n",
    "                //stmnt-1\n",
    "            else:\n",
    "                //stmnt-2\n",
    "        else:\n",
    "            //stmnt-n"
   ]
  },
  {
   "cell_type": "code",
   "execution_count": 7,
   "id": "1f83aea6-afdc-4d83-84cc-a3229b0dccd0",
   "metadata": {},
   "outputs": [
    {
     "name": "stdin",
     "output_type": "stream",
     "text": [
      "Enter college code:  KEC\n",
      "Enter branch:  CSE\n",
      "Enter your year:  2\n",
      "Enter your name:  raju\n"
     ]
    },
    {
     "name": "stdout",
     "output_type": "stream",
     "text": [
      "Hi Welcome raju\n"
     ]
    }
   ],
   "source": [
    "c = input(\"Enter college code: \")\n",
    "if c == \"KEC\":\n",
    "    b = input(\"Enter branch: \")\n",
    "    if b == \"CSE\":\n",
    "        y = int(input(\"Enter your year: \"))\n",
    "        if y == 2:\n",
    "            n = input(\"Enter your name: \")\n",
    "            if n == \"raju\":\n",
    "                print(f\"Hi Welcome {n}\")\n",
    "            else:\n",
    "                print(f\"Entered name {n} is not equal to raju\")\n",
    "        else:\n",
    "            print(f\"Entered year {y} is not equal to 2nd year\")\n",
    "    else:\n",
    "        print(f\"Entered branch {b} is not equal to CSE\")\n",
    "else:\n",
    "    print(f\"Entered code {c} is not equal to KEC\")"
   ]
  },
  {
   "cell_type": "markdown",
   "id": "3bb2cd4b-4c3d-4620-85c8-15da853de236",
   "metadata": {},
   "source": [
    "## elif:\n",
    "    Syntax:\n",
    "        if condition-1:\n",
    "            //stmnt-1\n",
    "        elif condition-2:\n",
    "            //stmnt-2\n",
    "        elif condition-3:\n",
    "            //stmnt-3\n",
    "            |       |\n",
    "        elif condition-n:\n",
    "            //stmnt-n\n",
    "        else:\n",
    "            //stmnt-(n-2)"
   ]
  },
  {
   "cell_type": "code",
   "execution_count": 19,
   "id": "cdaf4ec5-366a-4be3-953a-af260c7ce146",
   "metadata": {},
   "outputs": [
    {
     "name": "stdin",
     "output_type": "stream",
     "text": [
      "Enter a value:  35\n"
     ]
    },
    {
     "name": "stdout",
     "output_type": "stream",
     "text": [
      "Entered number 35 is Odd\n"
     ]
    }
   ],
   "source": [
    "k = int(input(\"Enter a value: \"))\n",
    "if k%2==0 and k%4==0:\n",
    "    print(f\"Entered number {k} is Even and Divisible by 4\")\n",
    "elif k%2==0:\n",
    "    print(f\"Entered number {k} is Even\")\n",
    "elif k<=30:\n",
    "    print(f\"entered number is less than 30\")\n",
    "else:\n",
    "    print(f\"Entered number {k} is Odd\")"
   ]
  },
  {
   "cell_type": "markdown",
   "id": "59a2a766-735e-4eca-8abc-57e9a1113016",
   "metadata": {},
   "source": [
    "## Loop:\n",
    "    - To iterate the n number of statements for n number of times untill the condition is false\n",
    "    - for => for known ranges\n",
    "    - while => for known and unknown ranges, infinity loops"
   ]
  },
  {
   "cell_type": "markdown",
   "id": "1e35e2e1-7634-47fc-847a-bb4b519c430d",
   "metadata": {},
   "source": [
    "## for:\n",
    "    syntax:\n",
    "        for iterationvariable_name in range(start,stop,step):\n",
    "            //statements\n",
    "                        or\n",
    "        for iterationvariable_name in iterator:\n",
    "            //statements"
   ]
  },
  {
   "cell_type": "markdown",
   "id": "11beac60-f4a8-4f5b-bbda-c3c70709e762",
   "metadata": {},
   "source": [
    "## range:\n",
    "    range(stop):\n",
    "        - By default it starts with 0 value\n",
    "        - It ends with stop-1 value\n",
    "        - By default it increments with +1 value\n",
    "        Ex:\n",
    "            range(4)\n",
    "            0 1 2 3\n",
    "    range(start,stop):\n",
    "        - It starts exactly with start value\n",
    "        - It ends with stop-1 value\n",
    "        - By default it increments with +1 value\n",
    "        Ex:\n",
    "            range(4,9)\n",
    "            4 5 6 7 8\n",
    "    range(start,stop,step):\n",
    "        - It starts exactly with start value\n",
    "        - It ends with stop-1 value\n",
    "        - It increments/decrements with step value\n",
    "        Ex:\n",
    "            range(1,10,3)\n",
    "            1 4 7 "
   ]
  },
  {
   "cell_type": "code",
   "execution_count": 25,
   "id": "14791d1a-5717-4e29-89cb-af43b2f9957b",
   "metadata": {},
   "outputs": [
    {
     "name": "stdin",
     "output_type": "stream",
     "text": [
      "Enter a range:  5\n"
     ]
    },
    {
     "name": "stdout",
     "output_type": "stream",
     "text": [
      "0 1 2 3 4 "
     ]
    }
   ],
   "source": [
    "k = int(input(\"Enter a range: \"))\n",
    "for i in range(k):\n",
    "    print(i,end=\" \")"
   ]
  },
  {
   "cell_type": "code",
   "execution_count": 27,
   "id": "47439cfd-830d-44f0-b9bb-c133bdf99539",
   "metadata": {},
   "outputs": [
    {
     "name": "stdin",
     "output_type": "stream",
     "text": [
      "Enter a range:  5\n"
     ]
    },
    {
     "name": "stdout",
     "output_type": "stream",
     "text": [
      "Even -1 Even -1 Even "
     ]
    }
   ],
   "source": [
    "n = int(input(\"Enter a range: \"))\n",
    "for i in range(n):\n",
    "    if i%2==0:\n",
    "        print(\"Even\",end=\" \")\n",
    "    else:\n",
    "        print(\"-1\",end=\" \")"
   ]
  },
  {
   "cell_type": "markdown",
   "id": "7392729b-c7a6-4198-90c0-74227603a8c6",
   "metadata": {},
   "source": [
    "```\n",
    "Input:\n",
    "    3\n",
    "Output:\n",
    "    EMP01\n",
    "    EMP02\n",
    "    EMP03\n",
    "```"
   ]
  },
  {
   "cell_type": "code",
   "execution_count": 34,
   "id": "cff902d7-de8f-4d45-9220-029915508895",
   "metadata": {},
   "outputs": [
    {
     "name": "stdin",
     "output_type": "stream",
     "text": [
      " 5\n"
     ]
    },
    {
     "name": "stdout",
     "output_type": "stream",
     "text": [
      "EMP01 EMP02 EMP03 EMP04 EMP05 "
     ]
    }
   ],
   "source": [
    "m = int(input())\n",
    "for i in range(m):\n",
    "    print(f\"EMP0{i+1}\",end=\" \")"
   ]
  },
  {
   "cell_type": "code",
   "execution_count": 33,
   "id": "9e9ff52d-c6aa-455f-b781-df76aca3652e",
   "metadata": {},
   "outputs": [
    {
     "name": "stdin",
     "output_type": "stream",
     "text": [
      " 11\n"
     ]
    },
    {
     "name": "stdout",
     "output_type": "stream",
     "text": [
      "EMP01 EMP02 EMP03 EMP04 EMP05 EMP06 EMP07 EMP08 EMP09 EMP10 EMP11 "
     ]
    }
   ],
   "source": [
    "m = int(input())\n",
    "for i in range(m):\n",
    "    if i<9:\n",
    "        print(f\"EMP0{i+1}\",end=\" \")\n",
    "    else:\n",
    "        print(f\"EMP{i+1}\",end=\" \")"
   ]
  },
  {
   "cell_type": "code",
   "execution_count": 37,
   "id": "e0e9cd11-83e5-41ab-ab4d-387548872ad6",
   "metadata": {},
   "outputs": [
    {
     "name": "stdin",
     "output_type": "stream",
     "text": [
      " 11\n"
     ]
    },
    {
     "name": "stdout",
     "output_type": "stream",
     "text": [
      "EMP01 EMP02 EMP03 EMP04 EMP05 EMP06 EMP07 EMP08 EMP09 EMP10 EMP11 "
     ]
    }
   ],
   "source": [
    "m = int(input())\n",
    "for i in range(m):\n",
    "    print(f\"EMP{i+1:02d}\",end=\" \")"
   ]
  },
  {
   "cell_type": "code",
   "execution_count": null,
   "id": "cd47dea7-cc06-4add-995e-3f29568e451f",
   "metadata": {},
   "outputs": [],
   "source": []
  }
 ],
 "metadata": {
  "kernelspec": {
   "display_name": "Python 3 (ipykernel)",
   "language": "python",
   "name": "python3"
  },
  "language_info": {
   "codemirror_mode": {
    "name": "ipython",
    "version": 3
   },
   "file_extension": ".py",
   "mimetype": "text/x-python",
   "name": "python",
   "nbconvert_exporter": "python",
   "pygments_lexer": "ipython3",
   "version": "3.9.6"
  }
 },
 "nbformat": 4,
 "nbformat_minor": 5
}
